{
 "cells": [
  {
   "cell_type": "markdown",
   "metadata": {},
   "source": [
    "# __InterUni Datathon - Fraud Dectection Analysis__\n",
    "---\n",
    "---"
   ]
  },
  {
   "cell_type": "markdown",
   "metadata": {},
   "source": [
    "**Team 5/12 - Macquarie University**\n",
    "\n",
    "- Team Member 1: `Chau Anh Cong`\n",
    "- Team Member 2: `Phan Long Quan Nguyen`\n",
    "- Team Member 3: ``\n",
    "- Team Member 4: ``\n",
    "- Team Member 5: ``\n",
    "---"
   ]
  },
  {
   "cell_type": "markdown",
   "metadata": {},
   "source": [
    "## Data Importing & First Look"
   ]
  },
  {
   "cell_type": "code",
   "execution_count": 1,
   "metadata": {},
   "outputs": [],
   "source": [
    "# Import all the necessary libraries for data analysis\n",
    "import pandas as pd\n",
    "import matplotlib.pyplot as plt\n",
    "import seaborn as sns\n",
    "import re\n",
    "\n",
    "from imblearn.under_sampling import RandomUnderSampler\n",
    "from sklearn.model_selection import train_test_split\n",
    "from sklearn.metrics import f1_score\n",
    "from sklearn.ensemble import RandomForestClassifier\n",
    "from xgboost import XGBClassifier\n",
    "from sklearn.model_selection import RandomizedSearchCV"
   ]
  },
  {
   "cell_type": "code",
   "execution_count": 2,
   "metadata": {},
   "outputs": [],
   "source": [
    "# Install packages if needed\n",
    "\n",
    "# !pip install pandas\n",
    "# !pip install numpy\n",
    "# !pip install matplotlib\n",
    "# !pip install imblearn\n",
    "# !pip install seaborn\n",
    "# !pip install plotly\n",
    "# !pip install scikit-learn\n",
    "# !pip install missingno\n",
    "# !pip install xgboost\n",
    "# !pip install lightgbm\n",
    "# !pip install catboost"
   ]
  },
  {
   "cell_type": "code",
   "execution_count": 3,
   "metadata": {},
   "outputs": [
    {
     "name": "stdout",
     "output_type": "stream",
     "text": [
      "<class 'pandas.core.frame.DataFrame'>\n",
      "RangeIndex: 10966 entries, 0 to 10965\n",
      "Data columns (total 24 columns):\n",
      " #   Column               Non-Null Count  Dtype  \n",
      "---  ------               --------------  -----  \n",
      " 0   TransactionNumber    10966 non-null  int64  \n",
      " 1   UserID               10966 non-null  int64  \n",
      " 2   Age                  10966 non-null  int64  \n",
      " 3   Gender               10966 non-null  object \n",
      " 4   Occupation           10966 non-null  object \n",
      " 5   EducationLevel       10966 non-null  object \n",
      " 6   MaritalStatus        10966 non-null  object \n",
      " 7   NumDependents        10966 non-null  int64  \n",
      " 8   Income               10966 non-null  object \n",
      " 9   Expenditure          10966 non-null  object \n",
      " 10  GiftsTransaction     10966 non-null  object \n",
      " 11  TransactionDate      10966 non-null  object \n",
      " 12  TransactionTime      10966 non-null  object \n",
      " 13  TransactionAmount    10966 non-null  object \n",
      " 14  MerchantID           10966 non-null  object \n",
      " 15  TransactionType      10966 non-null  object \n",
      " 16  TransactionLocation  10966 non-null  object \n",
      " 17  DeviceType           10966 non-null  object \n",
      " 18  Latitude             10923 non-null  float64\n",
      " 19  Longitude            10923 non-null  float64\n",
      " 20  EmailDomain          10966 non-null  object \n",
      " 21  Terrorism            10966 non-null  bool   \n",
      " 22  UserTenure           10966 non-null  int64  \n",
      " 23  IsFraud              10966 non-null  int64  \n",
      "dtypes: bool(1), float64(2), int64(6), object(15)\n",
      "memory usage: 1.9+ MB\n",
      "None\n"
     ]
    }
   ],
   "source": [
    "# Load data\n",
    "train_data = pd.read_csv('data/train.csv')\n",
    "test_data = pd.read_csv('data/test.csv')\n",
    "\n",
    "print(train_data.info())"
   ]
  },
  {
   "cell_type": "code",
   "execution_count": 4,
   "metadata": {},
   "outputs": [
    {
     "name": "stdout",
     "output_type": "stream",
     "text": [
      "Latitude : 43 (0.392%)\n",
      "Longitude : 43 (0.392%)\n"
     ]
    }
   ],
   "source": [
    "# Find the missing values\n",
    "def get_numerical_summary(df):\n",
    "    total = df.shape[0]\n",
    "    missing_columns = [col for col in df.columns if df[col].isnull().sum() > 0]\n",
    "    missing_percent = {}\n",
    "    for col in missing_columns:\n",
    "        null_count = df[col].isnull().sum()\n",
    "        per = (null_count/total) * 100\n",
    "        missing_percent[col] = per\n",
    "        print(\"{} : {} ({}%)\".format(col, null_count, round(per, 3)))\n",
    "    return missing_percent\n",
    "\n",
    "missing_percent = get_numerical_summary(train_data)"
   ]
  },
  {
   "cell_type": "code",
   "execution_count": 5,
   "metadata": {},
   "outputs": [],
   "source": [
    "# Drop rows with missing values since they are few\n",
    "train_data.dropna(inplace=True)"
   ]
  },
  {
   "cell_type": "code",
   "execution_count": 6,
   "metadata": {},
   "outputs": [
    {
     "data": {
      "image/png": "[encoded data removed]",
      "text/plain": [
       "<Figure size 640x480 with 1 Axes>"
      ]
     },
     "metadata": {},
     "output_type": "display_data"
    }
   ],
   "source": [
    "# Plot the distribution of IsFraud\n",
    "train_data['IsFraud'].value_counts(normalize=True)\n",
    "sns.countplot(x='IsFraud', data=train_data)\n",
    "plt.title('6:3 Ratio')\n",
    "plt.show()"
   ]
  },
  {
   "cell_type": "markdown",
   "metadata": {},
   "source": [
    "We'll under sample the data for the model training, not for the EDA."
   ]
  },
  {
   "cell_type": "markdown",
   "metadata": {},
   "source": [
    "## Data Preprocessing"
   ]
  },
  {
   "cell_type": "code",
   "execution_count": 7,
   "metadata": {},
   "outputs": [],
   "source": [
    "# Mapping for categorical variables\n",
    "gender_mapping = {\n",
    "    'fem': 'Female',\n",
    "    'Female': 'Female',\n",
    "    'she': 'Female',\n",
    "    'woman': 'Female',\n",
    "    'he': 'Male',\n",
    "    'man': 'Male',\n",
    "    'Male': 'Male',\n",
    "    'isnotfemale': 'Male',\n",
    "    'isnotmale': 'Female',\n",
    "}\n",
    "\n",
    "location_mapping = {\n",
    "    'Adelaide': 'Adelaide',\n",
    "    'adl': 'Adelaide',\n",
    "    'Adelaide City': 'Adelaide',\n",
    "    'Adl': 'Adelaide',\n",
    "    'Bne': 'Brisbane',\n",
    "    'BNE': 'Brisbane',\n",
    "    'brisbane': 'Brisbane',\n",
    "    'Brisbane': 'Brisbane',\n",
    "    'canberra': 'Canberra',\n",
    "    'Canberra': 'Canberra',\n",
    "    'CBR': 'Canberra',\n",
    "    'Cbr': 'Canberra',\n",
    "    'c': 'Canberra',\n",
    "    'darwin': 'Darwin',\n",
    "    'Darwin': 'Darwin',\n",
    "    'Drw': 'Darwin',\n",
    "    'DRW': 'Darwin',\n",
    "    'Hbt': 'Hobart',\n",
    "    'HBT': 'Hobart',\n",
    "    'hobart': 'Hobart',\n",
    "    'Hobart': 'Hobart',\n",
    "    'Mel': 'Melbourne',\n",
    "    'melb': 'Melbourne',\n",
    "    'Melb': 'Melbourne',\n",
    "    'melbourne': 'Melbourne',\n",
    "    'Melbourne': 'Melbourne',\n",
    "    'Melburne': 'Melbourne',\n",
    "    'Melburn': 'Melbourne',\n",
    "    'MLB': 'Melbourne',\n",
    "    'perth': 'Perth',\n",
    "    'Perth': 'Perth',\n",
    "    'PTH': 'Perth',\n",
    "    'Pth': 'Perth',\n",
    "    'Syd': 'Sydney',\n",
    "    'Sydney': 'Sydney',\n",
    "    'SYD': 'Sydney',\n",
    "    'sydney': 'Sydney'\n",
    "}\n",
    "\n",
    "\n",
    "mobile_mapping = {\n",
    "    'android': 'Mobile',\n",
    "    'galaxys7': 'Mobile',\n",
    "    'iphone 15': 'Mobile',\n",
    "    'mob': 'Mobile',\n",
    "    'smartphone': 'Mobile',\n",
    "    'Mobile': 'Mobile',\n",
    "}"
   ]
  },
  {
   "cell_type": "code",
   "execution_count": 8,
   "metadata": {},
   "outputs": [],
   "source": [
    "# Age correction\n",
    "def age_correction(age):\n",
    "    if age < 0:\n",
    "        age = abs(age)\n",
    "    if age % 1000 == 0:\n",
    "        age = age/1000\n",
    "\n",
    "    return age\n",
    "\n",
    "# Convert time to standard pandas time\n",
    "def standard_time(time_str):\n",
    "    try:\n",
    "        if 'AM' in time_str or 'PM' in time_str:\n",
    "            return pd.to_datetime(time_str, format='%I:%M:%S %p').strftime('%H:%M:%S')\n",
    "        \n",
    "        return pd.to_datetime(time_str, format='%H:%M:%S').strftime('%H:%M:%S')\n",
    "    \n",
    "    except (ValueError, TypeError):\n",
    "        try:\n",
    "            parts = time_str.split('/')\n",
    "            corrected_time = f'{parts[0]}:{parts[1]}:{parts[2]}'\n",
    "            return pd.to_datetime(corrected_time, format='%H:%M:%S').strftime('%H:%M:%S')\n",
    "        except Exception:\n",
    "            return None\n",
    "\n",
    "# Create a feature for the time of the day\n",
    "def categorize_time(hour):\n",
    "    if 0 <= hour < 6:\n",
    "        return 'Night'\n",
    "    elif 6 <= hour < 12:\n",
    "        return 'Morning'\n",
    "    elif 12 <= hour < 18:\n",
    "        return 'Afternoon'\n",
    "    else:\n",
    "        return 'Evening'\n",
    "    \n",
    "# Convert the currency to AUD\n",
    "def get_currency_and_symbol(val):\n",
    "    if 'AUD' in val or 'AU' in val:\n",
    "        # create a feature for aud\n",
    "        return re.sub(r'[^\\d.]', '', val), 'AUD' \n",
    "    elif 'AED' in val:\n",
    "        value = re.sub(r'[^\\d.]', '', val)\n",
    "        # convert AED to AUD\n",
    "        return float(value) * 0.35, 'AED'\n",
    "    elif '£' in val:\n",
    "        value = re.sub(r'[^\\d.]', '', val)\n",
    "        # convert pounds to AUD\n",
    "        return float(value) * 1.8, 'GBP'\n",
    "    elif 'GBP' in val:\n",
    "        value = re.sub(r'[^\\d.]', '', val)\n",
    "        # convert pounds to AUD\n",
    "        return float(value) * 1.8, 'GBP'\n",
    "    else:\n",
    "        return \"Unidentified\", \"Unknown\"\n"
   ]
  },
  {
   "cell_type": "code",
   "execution_count": 9,
   "metadata": {},
   "outputs": [],
   "source": [
    "# Clean other columns and apply the mappings\n",
    "def Cleaning(df):\n",
    "    df['Age'] = df['Age'].apply(age_correction)\n",
    "\n",
    "    df.dropna(subset=['TransactionTime'], inplace=True)\n",
    "    df['TransactionTime'] = df['TransactionTime'].apply(standard_time)\n",
    "    df['TransactionTime'] = pd.to_datetime(df['TransactionTime'], format='%H:%M:%S').dt.hour\n",
    "    df['TransactionTime'] = df['TransactionTime'].apply(categorize_time)\n",
    "\n",
    "    df['TransactionDate'] = pd.to_datetime(df['TransactionDate'], format='%Y-%m-%d')\n",
    "    df['Date'] = df['TransactionDate'].dt.day   \n",
    "    df['Month'] = df['TransactionDate'].dt.month  \n",
    "    df['Weekday'] = df['TransactionDate'].dt.day_name()\n",
    "\n",
    "    df['Income'], df['Income_Currency'] = zip(*df['Income'].apply(get_currency_and_symbol))\n",
    "    df['Income'] = pd.to_numeric(df['Income'], errors='coerce')  \n",
    "\n",
    "    df['Expenditure'], df['Expenditure_Currency'] = zip(*df['Expenditure'].apply(get_currency_and_symbol))\n",
    "    df['Expenditure'] = pd.to_numeric(df['Expenditure'], errors='coerce')\n",
    "\n",
    "    df['GiftsTransaction'], df['GiftsTransaction_Currency'] = zip(*df['GiftsTransaction'].apply(get_currency_and_symbol))\n",
    "    df['GiftsTransaction'] = pd.to_numeric(df['GiftsTransaction'], errors='coerce')\n",
    "\n",
    "    df['TransactionAmount'], df['TransactionAmount_Currency'] = zip(*df['TransactionAmount'].apply(get_currency_and_symbol))\n",
    "    df['TransactionAmount'] = pd.to_numeric(df['TransactionAmount'], errors='coerce') \n",
    "\n",
    "    df['EmailDomain'] = df['EmailDomain'].apply(lambda x: x.split('@')[1])\n",
    "    df['Gender'] = df['Gender'].map(gender_mapping).fillna('Other')\n",
    "    df['TransactionLocation'] = df['TransactionLocation'].replace(location_mapping)\n",
    "    df['DeviceType'] = df['DeviceType'].replace(mobile_mapping)\n",
    "    \n",
    "    return df"
   ]
  },
  {
   "cell_type": "markdown",
   "metadata": {},
   "source": [
    "## Encoding"
   ]
  },
  {
   "cell_type": "code",
   "execution_count": 10,
   "metadata": {},
   "outputs": [],
   "source": [
    "# Binary encoding for the columns\n",
    "def binary_encode(df, column, positive_value):\n",
    "    df = df.copy()\n",
    "    df[column] = df[column].apply(lambda x: 1 if x == positive_value else 0)\n",
    "    return df\n",
    "\n",
    "# Ordinal encoding for the columns\n",
    "def ordinal_encode(df, column, ordering):\n",
    "    df = df.copy()\n",
    "    df[column] = df[column].apply(lambda x: ordering.index(x))\n",
    "    return df\n",
    "\n",
    "# Columns to one hot encode\n",
    "nominal_columns = [\"Weekday\", \"MaritalStatus\", \"TransactionType\", \"TransactionLocation\", \"Income_Currency\", \"Expenditure_Currency\", \n",
    "                    \"GiftsTransaction_Currency\", \"TransactionAmount_Currency\", \"TransactionTime\",\"DeviceType\", \"MerchantID\", \"EmailDomain\"]\n",
    "# Columns to ordinal encode\n",
    "occupation_order = [\n",
    "    \"Student\",\n",
    "    \"Unemployed\",\n",
    "   \"Retired\", \n",
    "    \"Professional\",\n",
    "]\n",
    "education_order = [\n",
    "    \"High School\",\"Bachelor\",\"Master\",\"PhD\"\n",
    "]\n",
    "\n",
    "# Encoding the data\n",
    "def Encoding(df, drop_id=True):\n",
    "    df = binary_encode(df, \"Gender\", \"Male\")\n",
    "    df = ordinal_encode(df, \"Occupation\", occupation_order)\n",
    "    df = ordinal_encode(df, \"EducationLevel\", education_order)\n",
    "    df = binary_encode(df, \"Terrorism\", True)\n",
    "\n",
    "    # One hot encoding for the rest\n",
    "    df = pd.get_dummies(df, columns=nominal_columns, prefix=nominal_columns, dtype=int)\n",
    "\n",
    "    # Keep only relevant columns after cleaning\n",
    "    if drop_id:\n",
    "        columns_to_drop = [\"TransactionNumber\", \"UserID\", \"TransactionDate\"]\n",
    "    else:\n",
    "        columns_to_drop = [\"UserID\", \"TransactionDate\"]\n",
    "    \n",
    "    df = df.drop(columns=columns_to_drop)\n",
    "    \n",
    "    return df\n",
    "    "
   ]
  },
  {
   "cell_type": "code",
   "execution_count": 11,
   "metadata": {},
   "outputs": [],
   "source": [
    "def PreProcess(df, drop_id=True):\n",
    "    df_cleaned = Cleaning(df)\n",
    "    df_encoded = Encoding(df_cleaned, drop_id)\n",
    "    return df_encoded\n",
    "\n",
    "train_df_cleaned = PreProcess(train_data)\n",
    "test_df_cleaned = PreProcess(test_data, drop_id=False)"
   ]
  },
  {
   "cell_type": "markdown",
   "metadata": {},
   "source": [
    "## Exploratory Data Analysis"
   ]
  },
  {
   "cell_type": "code",
   "execution_count": 12,
   "metadata": {},
   "outputs": [
    {
     "data": {
      "image/png": "[encoded data removed]",
      "text/plain": [
       "<Figure size 640x480 with 1 Axes>"
      ]
     },
     "metadata": {},
     "output_type": "display_data"
    }
   ],
   "source": [
    "# What age group is more likely to commit fraud?\n",
    "train_data['AgeGroup'] = pd.cut(train_data['Age'], bins=[0, 18, 35, 60, 100], labels=['Teen', 'Young Adult', 'Adult', 'Elderly'])\n",
    "\n",
    "# Plot the AgeGroup column\n",
    "sns.countplot(x='AgeGroup', data=train_data, hue='IsFraud')\n",
    "plt.title('Age Group vs Fraud')\n",
    "plt.show()"
   ]
  },
  {
   "cell_type": "code",
   "execution_count": 13,
   "metadata": {},
   "outputs": [
    {
     "data": {
      "image/png": "[encoded data removed]",
      "text/plain": [
       "<Figure size 640x480 with 1 Axes>"
      ]
     },
     "metadata": {},
     "output_type": "display_data"
    }
   ],
   "source": [
    "# Are lower-income individuals more likely to commit fraud, or do high-income individuals also play a role?\n",
    "train_data['IncomeGroup'] = pd.cut(train_data['Income'], bins=[0, 10000, 50000, 100000, 500000, 1000000], labels=['Low', 'Lower Middle', 'Middle', 'Upper Middle', 'High'])\n",
    "\n",
    "# Plot the IncomeGroup column\n",
    "sns.countplot(x='IncomeGroup', data=train_data, hue='IsFraud')\n",
    "plt.title('Income Group vs Fraud')\n",
    "plt.show()"
   ]
  },
  {
   "cell_type": "code",
   "execution_count": 14,
   "metadata": {},
   "outputs": [
    {
     "data": {
      "image/png": "[encoded data removed]",
      "text/plain": [
       "<Figure size 640x480 with 1 Axes>"
      ]
     },
     "metadata": {},
     "output_type": "display_data"
    }
   ],
   "source": [
    "# Determine if couples or single individuals are more prone to committing fraud. Are certain relationship statuses (e.g., married, single) associated with higher fraud risk?\n",
    "train_data['MaritalStatus'] = train_data['MaritalStatus'].apply(lambda x: 'Single' if x == 'Single' else 'Married')\n",
    "\n",
    "# Plot the MaritalStatus column\n",
    "sns.countplot(x='MaritalStatus', data=train_data, hue='IsFraud')\n",
    "plt.title('Marital Status vs Fraud')\n",
    "plt.show()"
   ]
  },
  {
   "cell_type": "code",
   "execution_count": 15,
   "metadata": {},
   "outputs": [
    {
     "data": {
      "image/png": "[encoded data removed]",
      "text/plain": [
       "<Figure size 640x480 with 1 Axes>"
      ]
     },
     "metadata": {},
     "output_type": "display_data"
    }
   ],
   "source": [
    "#  Check if having fewer dependents correlates with a higher likelihood of committing fraud.\n",
    "# Plot the NumDependents column\n",
    "sns.countplot(x='NumDependents', data=train_data, hue='IsFraud')\n",
    "plt.title('Number of Dependents vs Fraud')\n",
    "plt.show()"
   ]
  },
  {
   "cell_type": "code",
   "execution_count": 16,
   "metadata": {},
   "outputs": [
    {
     "data": {
      "image/png": "[encoded data removed]",
      "text/plain": [
       "<Figure size 640x480 with 1 Axes>"
      ]
     },
     "metadata": {},
     "output_type": "display_data"
    }
   ],
   "source": [
    "# Identify which types of transactions (withdrawals, purchases, payments, transfers) occur most frequently before a fraudulent event. Are some types (e.g., purchases) more commonly linked to fraud?\n",
    "# Plot the TransactionType column\n",
    "sns.countplot(x='TransactionType', data=train_data, hue='IsFraud')\n",
    "plt.title('Transaction Type vs Fraud')\n",
    "plt.show()"
   ]
  },
  {
   "cell_type": "code",
   "execution_count": 17,
   "metadata": {},
   "outputs": [
    {
     "data": {
      "image/png": "[encoded data removed]",
      "text/plain": [
       "<Figure size 640x480 with 1 Axes>"
      ]
     },
     "metadata": {},
     "output_type": "display_data"
    }
   ],
   "source": [
    "sns.countplot(x='TransactionAmount_Currency', data=train_data, hue='IsFraud')\n",
    "plt.title('Income Currency vs Fraud')\n",
    "plt.show()"
   ]
  },
  {
   "cell_type": "code",
   "execution_count": 18,
   "metadata": {},
   "outputs": [
    {
     "data": {
      "text/plain": [
       "<Axes: xlabel='UserTenureGroup', ylabel='count'>"
      ]
     },
     "execution_count": 18,
     "metadata": {},
     "output_type": "execute_result"
    },
    {
     "data": {
      "image/png": "[encoded data removed]",
      "text/plain": [
       "<Figure size 640x480 with 1 Axes>"
      ]
     },
     "metadata": {},
     "output_type": "display_data"
    }
   ],
   "source": [
    "# does new account cause more fraud?\n",
    "train_data['UserTenureGroup'] = pd.cut(train_data['UserTenure'], bins=[0, 1, 2, 3, 4, 5, 6, 7, 8, 9, 10], labels=['New', '1', '2', '3', '4', '5', '6', '7', '8', '9'])\n",
    "\n",
    "# Plot the UserTenureGroup column\n",
    "sns.countplot(x='UserTenureGroup', data=train_data, hue='IsFraud')"
   ]
  },
  {
   "cell_type": "code",
   "execution_count": 19,
   "metadata": {},
   "outputs": [
    {
     "data": {
      "image/png": "[encoded data removed]",
      "text/plain": [
       "<Figure size 640x480 with 1 Axes>"
      ]
     },
     "metadata": {},
     "output_type": "display_data"
    }
   ],
   "source": [
    "# does late night = more fraud?\n",
    "sns.countplot(x='TransactionTime', data=train_data, hue='IsFraud')\n",
    "plt.title('Transaction Time vs Fraud')\n",
    "plt.show()"
   ]
  },
  {
   "cell_type": "code",
   "execution_count": 20,
   "metadata": {},
   "outputs": [
    {
     "data": {
      "text/plain": [
       "UserID\n",
       "2479    8\n",
       "2616    7\n",
       "4052    7\n",
       "1077    7\n",
       "1951    7\n",
       "495     7\n",
       "491     7\n",
       "571     6\n",
       "1803    6\n",
       "899     6\n",
       "Name: count, dtype: int64"
      ]
     },
     "execution_count": 20,
     "metadata": {},
     "output_type": "execute_result"
    }
   ],
   "source": [
    "# Get the UserID that has most fraud\n",
    "train_data[train_data['IsFraud'] == 1]['UserID'].value_counts()[:10]"
   ]
  },
  {
   "cell_type": "code",
   "execution_count": 21,
   "metadata": {},
   "outputs": [
    {
     "name": "stdout",
     "output_type": "stream",
     "text": [
      "count\n",
      "1    1419\n",
      "2     578\n",
      "3     219\n",
      "4     111\n",
      "5      35\n",
      "6      14\n",
      "7       6\n",
      "8       1\n",
      "Name: count, dtype: int64\n"
     ]
    }
   ],
   "source": [
    "fraud_counts = train_data[train_data['IsFraud'] == 1]['UserID'].value_counts()\n",
    "frequency_of_counts = fraud_counts.value_counts()\n",
    "print(frequency_of_counts) "
   ]
  },
  {
   "cell_type": "code",
   "execution_count": 22,
   "metadata": {},
   "outputs": [
    {
     "data": {
      "text/html": [
       "<div>\n",
       "<style scoped>\n",
       "    .dataframe tbody tr th:only-of-type {\n",
       "        vertical-align: middle;\n",
       "    }\n",
       "\n",
       "    .dataframe tbody tr th {\n",
       "        vertical-align: top;\n",
       "    }\n",
       "\n",
       "    .dataframe thead th {\n",
       "        text-align: right;\n",
       "    }\n",
       "</style>\n",
       "<table border=\"1\" class=\"dataframe\">\n",
       "  <thead>\n",
       "    <tr style=\"text-align: right;\">\n",
       "      <th></th>\n",
       "      <th>TransactionNumber</th>\n",
       "      <th>UserID</th>\n",
       "      <th>Age</th>\n",
       "      <th>Gender</th>\n",
       "      <th>Occupation</th>\n",
       "      <th>EducationLevel</th>\n",
       "      <th>MaritalStatus</th>\n",
       "      <th>NumDependents</th>\n",
       "      <th>Income</th>\n",
       "      <th>Expenditure</th>\n",
       "      <th>...</th>\n",
       "      <th>Date</th>\n",
       "      <th>Month</th>\n",
       "      <th>Weekday</th>\n",
       "      <th>Income_Currency</th>\n",
       "      <th>Expenditure_Currency</th>\n",
       "      <th>GiftsTransaction_Currency</th>\n",
       "      <th>TransactionAmount_Currency</th>\n",
       "      <th>AgeGroup</th>\n",
       "      <th>IncomeGroup</th>\n",
       "      <th>UserTenureGroup</th>\n",
       "    </tr>\n",
       "  </thead>\n",
       "  <tbody>\n",
       "    <tr>\n",
       "      <th>605</th>\n",
       "      <td>8522</td>\n",
       "      <td>2479</td>\n",
       "      <td>43.0</td>\n",
       "      <td>Male</td>\n",
       "      <td>Professional</td>\n",
       "      <td>Bachelor</td>\n",
       "      <td>Married</td>\n",
       "      <td>4</td>\n",
       "      <td>114935.58</td>\n",
       "      <td>82674.010</td>\n",
       "      <td>...</td>\n",
       "      <td>29</td>\n",
       "      <td>5</td>\n",
       "      <td>Monday</td>\n",
       "      <td>AUD</td>\n",
       "      <td>AUD</td>\n",
       "      <td>GBP</td>\n",
       "      <td>AUD</td>\n",
       "      <td>Adult</td>\n",
       "      <td>Upper Middle</td>\n",
       "      <td>NaN</td>\n",
       "    </tr>\n",
       "    <tr>\n",
       "      <th>2135</th>\n",
       "      <td>10246</td>\n",
       "      <td>2479</td>\n",
       "      <td>43.0</td>\n",
       "      <td>Male</td>\n",
       "      <td>Professional</td>\n",
       "      <td>Bachelor</td>\n",
       "      <td>Married</td>\n",
       "      <td>4</td>\n",
       "      <td>114935.58</td>\n",
       "      <td>82674.010</td>\n",
       "      <td>...</td>\n",
       "      <td>29</td>\n",
       "      <td>5</td>\n",
       "      <td>Monday</td>\n",
       "      <td>AUD</td>\n",
       "      <td>AUD</td>\n",
       "      <td>GBP</td>\n",
       "      <td>AUD</td>\n",
       "      <td>Adult</td>\n",
       "      <td>Upper Middle</td>\n",
       "      <td>NaN</td>\n",
       "    </tr>\n",
       "    <tr>\n",
       "      <th>2918</th>\n",
       "      <td>2441</td>\n",
       "      <td>2479</td>\n",
       "      <td>43.0</td>\n",
       "      <td>Male</td>\n",
       "      <td>Professional</td>\n",
       "      <td>Bachelor</td>\n",
       "      <td>Married</td>\n",
       "      <td>4</td>\n",
       "      <td>114935.58</td>\n",
       "      <td>82674.010</td>\n",
       "      <td>...</td>\n",
       "      <td>29</td>\n",
       "      <td>5</td>\n",
       "      <td>Monday</td>\n",
       "      <td>AUD</td>\n",
       "      <td>AUD</td>\n",
       "      <td>GBP</td>\n",
       "      <td>AUD</td>\n",
       "      <td>Adult</td>\n",
       "      <td>Upper Middle</td>\n",
       "      <td>NaN</td>\n",
       "    </tr>\n",
       "    <tr>\n",
       "      <th>6153</th>\n",
       "      <td>3262</td>\n",
       "      <td>2479</td>\n",
       "      <td>43.0</td>\n",
       "      <td>Male</td>\n",
       "      <td>Professional</td>\n",
       "      <td>Bachelor</td>\n",
       "      <td>Married</td>\n",
       "      <td>4</td>\n",
       "      <td>114935.58</td>\n",
       "      <td>82674.010</td>\n",
       "      <td>...</td>\n",
       "      <td>29</td>\n",
       "      <td>5</td>\n",
       "      <td>Monday</td>\n",
       "      <td>AUD</td>\n",
       "      <td>AUD</td>\n",
       "      <td>GBP</td>\n",
       "      <td>AUD</td>\n",
       "      <td>Adult</td>\n",
       "      <td>Upper Middle</td>\n",
       "      <td>NaN</td>\n",
       "    </tr>\n",
       "    <tr>\n",
       "      <th>6453</th>\n",
       "      <td>16707</td>\n",
       "      <td>2479</td>\n",
       "      <td>43.0</td>\n",
       "      <td>Male</td>\n",
       "      <td>Professional</td>\n",
       "      <td>Bachelor</td>\n",
       "      <td>Married</td>\n",
       "      <td>4</td>\n",
       "      <td>114935.58</td>\n",
       "      <td>72050.398</td>\n",
       "      <td>...</td>\n",
       "      <td>29</td>\n",
       "      <td>5</td>\n",
       "      <td>Monday</td>\n",
       "      <td>AUD</td>\n",
       "      <td>AED</td>\n",
       "      <td>AUD</td>\n",
       "      <td>AED</td>\n",
       "      <td>Adult</td>\n",
       "      <td>Upper Middle</td>\n",
       "      <td>NaN</td>\n",
       "    </tr>\n",
       "    <tr>\n",
       "      <th>6558</th>\n",
       "      <td>12601</td>\n",
       "      <td>2479</td>\n",
       "      <td>43.0</td>\n",
       "      <td>Male</td>\n",
       "      <td>Professional</td>\n",
       "      <td>Bachelor</td>\n",
       "      <td>Married</td>\n",
       "      <td>4</td>\n",
       "      <td>114935.58</td>\n",
       "      <td>82674.010</td>\n",
       "      <td>...</td>\n",
       "      <td>27</td>\n",
       "      <td>6</td>\n",
       "      <td>Tuesday</td>\n",
       "      <td>AUD</td>\n",
       "      <td>AUD</td>\n",
       "      <td>GBP</td>\n",
       "      <td>AUD</td>\n",
       "      <td>Adult</td>\n",
       "      <td>Upper Middle</td>\n",
       "      <td>NaN</td>\n",
       "    </tr>\n",
       "    <tr>\n",
       "      <th>9357</th>\n",
       "      <td>7151</td>\n",
       "      <td>2479</td>\n",
       "      <td>43.0</td>\n",
       "      <td>Male</td>\n",
       "      <td>Professional</td>\n",
       "      <td>Bachelor</td>\n",
       "      <td>Married</td>\n",
       "      <td>4</td>\n",
       "      <td>114935.58</td>\n",
       "      <td>82674.010</td>\n",
       "      <td>...</td>\n",
       "      <td>29</td>\n",
       "      <td>5</td>\n",
       "      <td>Monday</td>\n",
       "      <td>AUD</td>\n",
       "      <td>AUD</td>\n",
       "      <td>GBP</td>\n",
       "      <td>AUD</td>\n",
       "      <td>Adult</td>\n",
       "      <td>Upper Middle</td>\n",
       "      <td>NaN</td>\n",
       "    </tr>\n",
       "    <tr>\n",
       "      <th>9565</th>\n",
       "      <td>8946</td>\n",
       "      <td>2479</td>\n",
       "      <td>43.0</td>\n",
       "      <td>Male</td>\n",
       "      <td>Professional</td>\n",
       "      <td>Bachelor</td>\n",
       "      <td>Married</td>\n",
       "      <td>4</td>\n",
       "      <td>114935.58</td>\n",
       "      <td>82674.010</td>\n",
       "      <td>...</td>\n",
       "      <td>29</td>\n",
       "      <td>5</td>\n",
       "      <td>Monday</td>\n",
       "      <td>AUD</td>\n",
       "      <td>AUD</td>\n",
       "      <td>GBP</td>\n",
       "      <td>AUD</td>\n",
       "      <td>Adult</td>\n",
       "      <td>Upper Middle</td>\n",
       "      <td>NaN</td>\n",
       "    </tr>\n",
       "  </tbody>\n",
       "</table>\n",
       "<p>8 rows × 34 columns</p>\n",
       "</div>"
      ],
      "text/plain": [
       "      TransactionNumber  UserID   Age Gender    Occupation EducationLevel  \\\n",
       "605                8522    2479  43.0   Male  Professional       Bachelor   \n",
       "2135              10246    2479  43.0   Male  Professional       Bachelor   \n",
       "2918               2441    2479  43.0   Male  Professional       Bachelor   \n",
       "6153               3262    2479  43.0   Male  Professional       Bachelor   \n",
       "6453              16707    2479  43.0   Male  Professional       Bachelor   \n",
       "6558              12601    2479  43.0   Male  Professional       Bachelor   \n",
       "9357               7151    2479  43.0   Male  Professional       Bachelor   \n",
       "9565               8946    2479  43.0   Male  Professional       Bachelor   \n",
       "\n",
       "     MaritalStatus  NumDependents     Income  Expenditure  ...  Date Month  \\\n",
       "605        Married              4  114935.58    82674.010  ...    29     5   \n",
       "2135       Married              4  114935.58    82674.010  ...    29     5   \n",
       "2918       Married              4  114935.58    82674.010  ...    29     5   \n",
       "6153       Married              4  114935.58    82674.010  ...    29     5   \n",
       "6453       Married              4  114935.58    72050.398  ...    29     5   \n",
       "6558       Married              4  114935.58    82674.010  ...    27     6   \n",
       "9357       Married              4  114935.58    82674.010  ...    29     5   \n",
       "9565       Married              4  114935.58    82674.010  ...    29     5   \n",
       "\n",
       "      Weekday  Income_Currency Expenditure_Currency GiftsTransaction_Currency  \\\n",
       "605    Monday              AUD                  AUD                       GBP   \n",
       "2135   Monday              AUD                  AUD                       GBP   \n",
       "2918   Monday              AUD                  AUD                       GBP   \n",
       "6153   Monday              AUD                  AUD                       GBP   \n",
       "6453   Monday              AUD                  AED                       AUD   \n",
       "6558  Tuesday              AUD                  AUD                       GBP   \n",
       "9357   Monday              AUD                  AUD                       GBP   \n",
       "9565   Monday              AUD                  AUD                       GBP   \n",
       "\n",
       "     TransactionAmount_Currency AgeGroup   IncomeGroup  UserTenureGroup  \n",
       "605                         AUD    Adult  Upper Middle              NaN  \n",
       "2135                        AUD    Adult  Upper Middle              NaN  \n",
       "2918                        AUD    Adult  Upper Middle              NaN  \n",
       "6153                        AUD    Adult  Upper Middle              NaN  \n",
       "6453                        AED    Adult  Upper Middle              NaN  \n",
       "6558                        AUD    Adult  Upper Middle              NaN  \n",
       "9357                        AUD    Adult  Upper Middle              NaN  \n",
       "9565                        AUD    Adult  Upper Middle              NaN  \n",
       "\n",
       "[8 rows x 34 columns]"
      ]
     },
     "execution_count": 22,
     "metadata": {},
     "output_type": "execute_result"
    }
   ],
   "source": [
    "# The UserID with most fraud\n",
    "train_data[train_data['UserID'] == 2479]"
   ]
  },
  {
   "cell_type": "code",
   "execution_count": 23,
   "metadata": {},
   "outputs": [],
   "source": [
    "# List of users with 5 or more frauds\n",
    "fraudulent_users = fraud_counts[fraud_counts >= 4].index"
   ]
  },
  {
   "cell_type": "code",
   "execution_count": 24,
   "metadata": {},
   "outputs": [
    {
     "data": {
      "text/html": [
       "<div>\n",
       "<style scoped>\n",
       "    .dataframe tbody tr th:only-of-type {\n",
       "        vertical-align: middle;\n",
       "    }\n",
       "\n",
       "    .dataframe tbody tr th {\n",
       "        vertical-align: top;\n",
       "    }\n",
       "\n",
       "    .dataframe thead th {\n",
       "        text-align: right;\n",
       "    }\n",
       "</style>\n",
       "<table border=\"1\" class=\"dataframe\">\n",
       "  <thead>\n",
       "    <tr style=\"text-align: right;\">\n",
       "      <th></th>\n",
       "      <th>TransactionNumber</th>\n",
       "      <th>UserID</th>\n",
       "      <th>Age</th>\n",
       "      <th>NumDependents</th>\n",
       "      <th>Income</th>\n",
       "      <th>Expenditure</th>\n",
       "      <th>GiftsTransaction</th>\n",
       "      <th>TransactionDate</th>\n",
       "      <th>TransactionAmount</th>\n",
       "      <th>Latitude</th>\n",
       "      <th>Longitude</th>\n",
       "      <th>UserTenure</th>\n",
       "      <th>IsFraud</th>\n",
       "      <th>Date</th>\n",
       "      <th>Month</th>\n",
       "    </tr>\n",
       "  </thead>\n",
       "  <tbody>\n",
       "    <tr>\n",
       "      <th>count</th>\n",
       "      <td>849.000000</td>\n",
       "      <td>849.000000</td>\n",
       "      <td>849.000000</td>\n",
       "      <td>849.000000</td>\n",
       "      <td>849.000000</td>\n",
       "      <td>849.000000</td>\n",
       "      <td>849.000000</td>\n",
       "      <td>849</td>\n",
       "      <td>849.000000</td>\n",
       "      <td>849.000000</td>\n",
       "      <td>849.000000</td>\n",
       "      <td>849.000000</td>\n",
       "      <td>849.000000</td>\n",
       "      <td>849.000000</td>\n",
       "      <td>849.000000</td>\n",
       "    </tr>\n",
       "    <tr>\n",
       "      <th>mean</th>\n",
       "      <td>9161.787986</td>\n",
       "      <td>2521.726737</td>\n",
       "      <td>34.151943</td>\n",
       "      <td>1.848057</td>\n",
       "      <td>71886.747326</td>\n",
       "      <td>37886.717972</td>\n",
       "      <td>6334.592822</td>\n",
       "      <td>2023-08-17 10:03:48.975265280</td>\n",
       "      <td>410.199353</td>\n",
       "      <td>-30.983994</td>\n",
       "      <td>141.533785</td>\n",
       "      <td>62.623086</td>\n",
       "      <td>0.886926</td>\n",
       "      <td>16.014134</td>\n",
       "      <td>8.042403</td>\n",
       "    </tr>\n",
       "    <tr>\n",
       "      <th>min</th>\n",
       "      <td>32.000000</td>\n",
       "      <td>9.000000</td>\n",
       "      <td>18.000000</td>\n",
       "      <td>0.000000</td>\n",
       "      <td>17997.690000</td>\n",
       "      <td>6909.913500</td>\n",
       "      <td>19.350000</td>\n",
       "      <td>2023-01-03 00:00:00</td>\n",
       "      <td>1.816500</td>\n",
       "      <td>-41.640079</td>\n",
       "      <td>-56.451390</td>\n",
       "      <td>1.000000</td>\n",
       "      <td>0.000000</td>\n",
       "      <td>1.000000</td>\n",
       "      <td>1.000000</td>\n",
       "    </tr>\n",
       "    <tr>\n",
       "      <th>25%</th>\n",
       "      <td>4810.000000</td>\n",
       "      <td>1379.000000</td>\n",
       "      <td>25.000000</td>\n",
       "      <td>1.000000</td>\n",
       "      <td>49762.020000</td>\n",
       "      <td>23582.610000</td>\n",
       "      <td>1933.146000</td>\n",
       "      <td>2023-05-31 00:00:00</td>\n",
       "      <td>38.500000</td>\n",
       "      <td>-37.020100</td>\n",
       "      <td>142.702789</td>\n",
       "      <td>31.000000</td>\n",
       "      <td>1.000000</td>\n",
       "      <td>9.000000</td>\n",
       "      <td>5.000000</td>\n",
       "    </tr>\n",
       "    <tr>\n",
       "      <th>50%</th>\n",
       "      <td>8780.000000</td>\n",
       "      <td>2616.000000</td>\n",
       "      <td>33.000000</td>\n",
       "      <td>2.000000</td>\n",
       "      <td>66419.100000</td>\n",
       "      <td>34206.020000</td>\n",
       "      <td>4284.810000</td>\n",
       "      <td>2023-09-11 00:00:00</td>\n",
       "      <td>136.990000</td>\n",
       "      <td>-31.840233</td>\n",
       "      <td>144.964600</td>\n",
       "      <td>66.000000</td>\n",
       "      <td>1.000000</td>\n",
       "      <td>16.000000</td>\n",
       "      <td>9.000000</td>\n",
       "    </tr>\n",
       "    <tr>\n",
       "      <th>75%</th>\n",
       "      <td>13618.000000</td>\n",
       "      <td>3673.000000</td>\n",
       "      <td>41.000000</td>\n",
       "      <td>3.000000</td>\n",
       "      <td>85488.060000</td>\n",
       "      <td>48035.850000</td>\n",
       "      <td>8678.950000</td>\n",
       "      <td>2023-11-09 00:00:00</td>\n",
       "      <td>447.706000</td>\n",
       "      <td>-25.042261</td>\n",
       "      <td>145.612793</td>\n",
       "      <td>93.000000</td>\n",
       "      <td>1.000000</td>\n",
       "      <td>24.000000</td>\n",
       "      <td>11.000000</td>\n",
       "    </tr>\n",
       "    <tr>\n",
       "      <th>max</th>\n",
       "      <td>18211.000000</td>\n",
       "      <td>4948.000000</td>\n",
       "      <td>68.000000</td>\n",
       "      <td>4.000000</td>\n",
       "      <td>156761.270000</td>\n",
       "      <td>103785.430000</td>\n",
       "      <td>39736.980000</td>\n",
       "      <td>2023-12-30 00:00:00</td>\n",
       "      <td>5335.290000</td>\n",
       "      <td>52.734160</td>\n",
       "      <td>149.012375</td>\n",
       "      <td>119.000000</td>\n",
       "      <td>1.000000</td>\n",
       "      <td>31.000000</td>\n",
       "      <td>12.000000</td>\n",
       "    </tr>\n",
       "    <tr>\n",
       "      <th>std</th>\n",
       "      <td>5240.950487</td>\n",
       "      <td>1409.581856</td>\n",
       "      <td>10.847322</td>\n",
       "      <td>1.382761</td>\n",
       "      <td>30857.513487</td>\n",
       "      <td>19321.441248</td>\n",
       "      <td>6475.303529</td>\n",
       "      <td>NaN</td>\n",
       "      <td>685.513829</td>\n",
       "      <td>6.686584</td>\n",
       "      <td>11.304909</td>\n",
       "      <td>34.188217</td>\n",
       "      <td>0.316870</td>\n",
       "      <td>8.815311</td>\n",
       "      <td>3.210477</td>\n",
       "    </tr>\n",
       "  </tbody>\n",
       "</table>\n",
       "</div>"
      ],
      "text/plain": [
       "       TransactionNumber       UserID         Age  NumDependents  \\\n",
       "count         849.000000   849.000000  849.000000     849.000000   \n",
       "mean         9161.787986  2521.726737   34.151943       1.848057   \n",
       "min            32.000000     9.000000   18.000000       0.000000   \n",
       "25%          4810.000000  1379.000000   25.000000       1.000000   \n",
       "50%          8780.000000  2616.000000   33.000000       2.000000   \n",
       "75%         13618.000000  3673.000000   41.000000       3.000000   \n",
       "max         18211.000000  4948.000000   68.000000       4.000000   \n",
       "std          5240.950487  1409.581856   10.847322       1.382761   \n",
       "\n",
       "              Income    Expenditure  GiftsTransaction  \\\n",
       "count     849.000000     849.000000        849.000000   \n",
       "mean    71886.747326   37886.717972       6334.592822   \n",
       "min     17997.690000    6909.913500         19.350000   \n",
       "25%     49762.020000   23582.610000       1933.146000   \n",
       "50%     66419.100000   34206.020000       4284.810000   \n",
       "75%     85488.060000   48035.850000       8678.950000   \n",
       "max    156761.270000  103785.430000      39736.980000   \n",
       "std     30857.513487   19321.441248       6475.303529   \n",
       "\n",
       "                     TransactionDate  TransactionAmount    Latitude  \\\n",
       "count                            849         849.000000  849.000000   \n",
       "mean   2023-08-17 10:03:48.975265280         410.199353  -30.983994   \n",
       "min              2023-01-03 00:00:00           1.816500  -41.640079   \n",
       "25%              2023-05-31 00:00:00          38.500000  -37.020100   \n",
       "50%              2023-09-11 00:00:00         136.990000  -31.840233   \n",
       "75%              2023-11-09 00:00:00         447.706000  -25.042261   \n",
       "max              2023-12-30 00:00:00        5335.290000   52.734160   \n",
       "std                              NaN         685.513829    6.686584   \n",
       "\n",
       "        Longitude  UserTenure     IsFraud        Date       Month  \n",
       "count  849.000000  849.000000  849.000000  849.000000  849.000000  \n",
       "mean   141.533785   62.623086    0.886926   16.014134    8.042403  \n",
       "min    -56.451390    1.000000    0.000000    1.000000    1.000000  \n",
       "25%    142.702789   31.000000    1.000000    9.000000    5.000000  \n",
       "50%    144.964600   66.000000    1.000000   16.000000    9.000000  \n",
       "75%    145.612793   93.000000    1.000000   24.000000   11.000000  \n",
       "max    149.012375  119.000000    1.000000   31.000000   12.000000  \n",
       "std     11.304909   34.188217    0.316870    8.815311    3.210477  "
      ]
     },
     "execution_count": 24,
     "metadata": {},
     "output_type": "execute_result"
    }
   ],
   "source": [
    "# Find the characteristics of the fraudulent users\n",
    "fraudulent_user_data = train_data[train_data['UserID'].isin(fraudulent_users)]\n",
    "fraudulent_user_data.describe()"
   ]
  },
  {
   "cell_type": "markdown",
   "metadata": {},
   "source": [
    "## Predictive Analytics"
   ]
  },
  {
   "cell_type": "markdown",
   "metadata": {},
   "source": [
    "### Data Re-sampling"
   ]
  },
  {
   "cell_type": "markdown",
   "metadata": {},
   "source": [
    "explain what we did here"
   ]
  },
  {
   "cell_type": "code",
   "execution_count": 25,
   "metadata": {},
   "outputs": [],
   "source": [
    "rus = RandomUnderSampler(sampling_strategy='majority')\n",
    "X_rus, y_rus = rus.fit_resample(train_data.drop(columns=['IsFraud']), train_data['IsFraud'])\n",
    "\n",
    "train_df = pd.concat([X_rus, y_rus], axis=1)\n",
    "train_df.reset_index(drop=True, inplace=True)"
   ]
  },
  {
   "cell_type": "markdown",
   "metadata": {},
   "source": [
    "### Modelling"
   ]
  },
  {
   "cell_type": "code",
   "execution_count": 26,
   "metadata": {},
   "outputs": [],
   "source": [
    "y = train_df_cleaned['IsFraud']\n",
    "X = train_df_cleaned.drop('IsFraud', axis=1)\n",
    "X_train, X_test, y_train, y_test = train_test_split(X, y, test_size=0.2, random_state=42)"
   ]
  },
  {
   "cell_type": "markdown",
   "metadata": {},
   "source": [
    "#### Random Forest Classifier"
   ]
  },
  {
   "cell_type": "code",
   "execution_count": 27,
   "metadata": {},
   "outputs": [
    {
     "name": "stdout",
     "output_type": "stream",
     "text": [
      "Random Forest F1 Score: 0.9948320413436692\n"
     ]
    }
   ],
   "source": [
    "param_grid = {\n",
    "    'n_estimators': [50, 100],\n",
    "    'max_depth': [10, 20, 30],\n",
    "    'max_features': ['sqrt', 'log2'],\n",
    "    'min_samples_split': [2, 5, 10],\n",
    "    'min_samples_leaf': [1, 2, 4, 10],\n",
    "    'bootstrap': [True]\n",
    "}\n",
    "\n",
    "# Initialize the Random Forest Classifier\n",
    "rf = RandomForestClassifier(random_state=42)\n",
    "\n",
    "# Initialize the RandomizedSearchCV\n",
    "random_search = RandomizedSearchCV(estimator=rf, param_distributions=param_grid, \n",
    "                                scoring=\"f1\", cv=10, refit=True, random_state=42, n_jobs=-1)\n",
    "\n",
    "# Fit the model\n",
    "random_search.fit(X_train, y_train)\n",
    "\n",
    "# Get the best parameters\n",
    "rf_best = random_search.best_estimator_\n",
    "\n",
    "# Make predictions\n",
    "rf_y_pred = rf_best.predict(X_test)\n",
    "\n",
    "rf_f1 = f1_score(y_test, rf_y_pred)\n",
    "print(f\"Random Forest F1 Score: {rf_f1}\")"
   ]
  },
  {
   "cell_type": "markdown",
   "metadata": {},
   "source": [
    "### XGBoost Classifier"
   ]
  },
  {
   "cell_type": "code",
   "execution_count": 28,
   "metadata": {},
   "outputs": [
    {
     "name": "stdout",
     "output_type": "stream",
     "text": [
      "XGBoost F1 Score: 0.9987146529562982\n"
     ]
    }
   ],
   "source": [
    "param_grid = {\n",
    "    'n_estimators': [50, 100, 200],\n",
    "    'learning_rate': [0.01, 0.05, 0.1, 0.2, 0.3],\n",
    "    'max_depth': [3, 5, 7, 10]\n",
    "}\n",
    "\n",
    "# Initialize the XGBoost Regressor\n",
    "xg_classifier = XGBClassifier(random_state=42)\n",
    "\n",
    "# Initialize the RandomizedSearchCV\n",
    "random_search = RandomizedSearchCV(estimator=xg_classifier, param_distributions=param_grid, \n",
    "                                    cv=5, scoring=\"f1\", refit=True, random_state=42, n_jobs=-1)\n",
    "\n",
    "# Fit the model\n",
    "random_search.fit(X_train, y_train)\n",
    "\n",
    "# Get the best parameters\n",
    "xgb_best = random_search.best_estimator_\n",
    "\n",
    "# Make predictions\n",
    "xgb_y_pred = xgb_best.predict(X_test)\n",
    "\n",
    "xgb_f1 = f1_score(y_test, xgb_y_pred)\n",
    "print(f\"XGBoost F1 Score: {xgb_f1}\")"
   ]
  }
 ],
 "metadata": {
  "kernelspec": {
   "display_name": "interuni-datathon",
   "language": "python",
   "name": "python3"
  },
  "language_info": {
   "codemirror_mode": {
    "name": "ipython",
    "version": 3
   },
   "file_extension": ".py",
   "mimetype": "text/x-python",
   "name": "python",
   "nbconvert_exporter": "python",
   "pygments_lexer": "ipython3",
   "version": "3.12.4"
  }
 },
 "nbformat": 4,
 "nbformat_minor": 2
}
