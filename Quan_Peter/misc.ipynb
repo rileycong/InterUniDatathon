{
 "cells": [
  {
   "cell_type": "code",
   "execution_count": 116,
   "metadata": {},
   "outputs": [],
   "source": [
    "# Import all the necessary libraries for data analysis\n",
    "import pandas as pd\n",
    "import numpy as np\n",
    "import matplotlib.pyplot as plt\n",
    "import seaborn as sns\n",
    "import os\n",
    "import sys\n",
    "import re\n",
    "import datetime\n",
    "# plotly\n",
    "import plotly.express as px\n",
    "import plotly.graph_objects as go\n",
    "from plotly.subplots import make_subplots\n",
    "# For the machine learning model\n",
    "from sklearn.model_selection import train_test_split\n",
    "from sklearn.linear_model import LinearRegression\n",
    "from sklearn import metrics\n",
    "from sklearn.metrics import mean_squared_error"
   ]
  },
  {
   "cell_type": "code",
   "execution_count": 117,
   "metadata": {},
   "outputs": [],
   "source": [
    "# !pip install pandas\n",
    "# !pip install numpy\n",
    "# !pip install matplotlib\n",
    "# !pip install seaborn\n",
    "# !pip install plotly\n",
    "# !pip install scikit-learn"
   ]
  },
  {
   "cell_type": "code",
   "execution_count": 118,
   "metadata": {},
   "outputs": [],
   "source": [
    "# # get out the current directory\n",
    "# current_dir = os.getcwd()\n",
    "# # get out the parent directory\n",
    "# parent_dir = os.path.dirname(cuuser_dfrrent_dir)\n",
    "# # change to the parent directory\n",
    "# os.chdir(parent_dir)"
   ]
  },
  {
   "cell_type": "code",
   "execution_count": 119,
   "metadata": {},
   "outputs": [],
   "source": [
    "path = \"../inter-uni-datathon-2024-nsw/\"\n",
    "train_df = pd.read_csv(path + \"train.csv\")\n",
    "test_df = pd.read_csv(path + \"test.csv\")"
   ]
  },
  {
   "cell_type": "code",
   "execution_count": 120,
   "metadata": {},
   "outputs": [
    {
     "name": "stdout",
     "output_type": "stream",
     "text": [
      "Requirement already satisfied: imblearn in /home/quan/miniconda3/lib/python3.12/site-packages (0.0)\n",
      "Requirement already satisfied: imbalanced-learn in /home/quan/miniconda3/lib/python3.12/site-packages (from imblearn) (0.12.3)\n",
      "Requirement already satisfied: numpy>=1.17.3 in /home/quan/miniconda3/lib/python3.12/site-packages (from imbalanced-learn->imblearn) (2.1.1)\n",
      "Requirement already satisfied: scipy>=1.5.0 in /home/quan/miniconda3/lib/python3.12/site-packages (from imbalanced-learn->imblearn) (1.14.1)\n",
      "Requirement already satisfied: scikit-learn>=1.0.2 in /home/quan/miniconda3/lib/python3.12/site-packages (from imbalanced-learn->imblearn) (1.5.2)\n",
      "Requirement already satisfied: joblib>=1.1.1 in /home/quan/miniconda3/lib/python3.12/site-packages (from imbalanced-learn->imblearn) (1.4.2)\n",
      "Requirement already satisfied: threadpoolctl>=2.0.0 in /home/quan/miniconda3/lib/python3.12/site-packages (from imbalanced-learn->imblearn) (3.5.0)\n"
     ]
    }
   ],
   "source": [
    "!pip install imblearn"
   ]
  },
  {
   "cell_type": "code",
   "execution_count": 121,
   "metadata": {},
   "outputs": [],
   "source": [
    "from imblearn.under_sampling import RandomUnderSampler\n",
    "rus = RandomUnderSampler(sampling_strategy='majority')\n",
    "X_rus, y_rus = rus.fit_resample(train_df.drop(columns=['IsFraud']), train_df['IsFraud'])\n",
    "train_df = pd.concat([X_rus, y_rus], axis=1)"
   ]
  },
  {
   "cell_type": "code",
   "execution_count": 122,
   "metadata": {},
   "outputs": [],
   "source": [
    "# Age (does young adult cause more fraud?)\n",
    "user_info = [\n",
    "    \"Age\", \n",
    "    \"Terrorism\",\n",
    "    \"Income\",\n",
    "    \"MaritalStatus\",\n",
    "    \"Occupation\",\n",
    "    \"EducationLevel\",\n",
    "    \"NumDependents\",\n",
    "    \"GiftsTransaction\" \n",
    "]\n",
    "transaction_info = [\n",
    "    \"TransactionType\", \n",
    "    \"TransactionDate\",\n",
    "    \"TransactionTime\", \n",
    "    \"TransactionAmount\",\n",
    "    \"TransactionLocation\" \n",
    "]\n",
    "account_info = [\n",
    "    \"UserTenure\",\n",
    "    \"Expenditure\",\n",
    "    \"Latitude\",\n",
    "    \"Longitude\" \n",
    "]"
   ]
  },
  {
   "cell_type": "code",
   "execution_count": 123,
   "metadata": {},
   "outputs": [
    {
     "data": {
      "text/html": [
       "<div>\n",
       "<style scoped>\n",
       "    .dataframe tbody tr th:only-of-type {\n",
       "        vertical-align: middle;\n",
       "    }\n",
       "\n",
       "    .dataframe tbody tr th {\n",
       "        vertical-align: top;\n",
       "    }\n",
       "\n",
       "    .dataframe thead th {\n",
       "        text-align: right;\n",
       "    }\n",
       "</style>\n",
       "<table border=\"1\" class=\"dataframe\">\n",
       "  <thead>\n",
       "    <tr style=\"text-align: right;\">\n",
       "      <th></th>\n",
       "      <th>TransactionNumber</th>\n",
       "      <th>UserID</th>\n",
       "      <th>Age</th>\n",
       "      <th>Gender</th>\n",
       "      <th>Occupation</th>\n",
       "      <th>EducationLevel</th>\n",
       "      <th>MaritalStatus</th>\n",
       "      <th>NumDependents</th>\n",
       "      <th>Income</th>\n",
       "      <th>Expenditure</th>\n",
       "      <th>...</th>\n",
       "      <th>MerchantID</th>\n",
       "      <th>TransactionType</th>\n",
       "      <th>TransactionLocation</th>\n",
       "      <th>DeviceType</th>\n",
       "      <th>Latitude</th>\n",
       "      <th>Longitude</th>\n",
       "      <th>EmailDomain</th>\n",
       "      <th>Terrorism</th>\n",
       "      <th>UserTenure</th>\n",
       "      <th>IsFraud</th>\n",
       "    </tr>\n",
       "  </thead>\n",
       "  <tbody>\n",
       "    <tr>\n",
       "      <th>8565</th>\n",
       "      <td>2551</td>\n",
       "      <td>1865</td>\n",
       "      <td>22000</td>\n",
       "      <td>Female</td>\n",
       "      <td>Professional</td>\n",
       "      <td>Bachelor</td>\n",
       "      <td>Single</td>\n",
       "      <td>3</td>\n",
       "      <td>AU$ 92661.58</td>\n",
       "      <td>AU$ 52554.6</td>\n",
       "      <td>...</td>\n",
       "      <td>M002</td>\n",
       "      <td>Withdrawal</td>\n",
       "      <td>Melburn</td>\n",
       "      <td>Desktop</td>\n",
       "      <td>-31.840233</td>\n",
       "      <td>145.612793</td>\n",
       "      <td>davidsmith@gmail.com</td>\n",
       "      <td>False</td>\n",
       "      <td>41</td>\n",
       "      <td>0</td>\n",
       "    </tr>\n",
       "    <tr>\n",
       "      <th>8047</th>\n",
       "      <td>18139</td>\n",
       "      <td>872</td>\n",
       "      <td>29</td>\n",
       "      <td>Female</td>\n",
       "      <td>Student</td>\n",
       "      <td>High School</td>\n",
       "      <td>Married</td>\n",
       "      <td>2</td>\n",
       "      <td>AU$ 77729.72</td>\n",
       "      <td>AED 84918.21</td>\n",
       "      <td>...</td>\n",
       "      <td>M007</td>\n",
       "      <td>Purchase</td>\n",
       "      <td>Adelaide</td>\n",
       "      <td>Mobile</td>\n",
       "      <td>-20.917574</td>\n",
       "      <td>142.702789</td>\n",
       "      <td>velazquezgina@securemail.com</td>\n",
       "      <td>False</td>\n",
       "      <td>26</td>\n",
       "      <td>0</td>\n",
       "    </tr>\n",
       "    <tr>\n",
       "      <th>7809</th>\n",
       "      <td>15685</td>\n",
       "      <td>604</td>\n",
       "      <td>29</td>\n",
       "      <td>Male</td>\n",
       "      <td>Unemployed</td>\n",
       "      <td>Master</td>\n",
       "      <td>Single</td>\n",
       "      <td>3</td>\n",
       "      <td>173719.27 AUD</td>\n",
       "      <td>232219.29 AED</td>\n",
       "      <td>...</td>\n",
       "      <td>M008</td>\n",
       "      <td>Purchase</td>\n",
       "      <td>Sydney</td>\n",
       "      <td>galaxys7</td>\n",
       "      <td>-37.020100</td>\n",
       "      <td>144.964600</td>\n",
       "      <td>gilbertamanda@yahoo.com</td>\n",
       "      <td>False</td>\n",
       "      <td>75</td>\n",
       "      <td>0</td>\n",
       "    </tr>\n",
       "    <tr>\n",
       "      <th>1120</th>\n",
       "      <td>3988</td>\n",
       "      <td>376</td>\n",
       "      <td>46</td>\n",
       "      <td>fem</td>\n",
       "      <td>Professional</td>\n",
       "      <td>Master</td>\n",
       "      <td>Single</td>\n",
       "      <td>1</td>\n",
       "      <td>134357.88 AUD</td>\n",
       "      <td>AU$ 72386.52</td>\n",
       "      <td>...</td>\n",
       "      <td>M008</td>\n",
       "      <td>Purchase</td>\n",
       "      <td>Adelaide</td>\n",
       "      <td>Desktop</td>\n",
       "      <td>-30.000233</td>\n",
       "      <td>136.209152</td>\n",
       "      <td>fergusonjeremiah@yahoo.com</td>\n",
       "      <td>False</td>\n",
       "      <td>11</td>\n",
       "      <td>0</td>\n",
       "    </tr>\n",
       "    <tr>\n",
       "      <th>2185</th>\n",
       "      <td>8998</td>\n",
       "      <td>3487</td>\n",
       "      <td>34</td>\n",
       "      <td>Female</td>\n",
       "      <td>Student</td>\n",
       "      <td>Bachelor</td>\n",
       "      <td>Married</td>\n",
       "      <td>1</td>\n",
       "      <td>85524.36 AUD</td>\n",
       "      <td>AU$ 67413.8</td>\n",
       "      <td>...</td>\n",
       "      <td>M002</td>\n",
       "      <td>Payment</td>\n",
       "      <td>Melbourne</td>\n",
       "      <td>Mobile</td>\n",
       "      <td>-31.840233</td>\n",
       "      <td>145.612793</td>\n",
       "      <td>alicia43@securemail.com</td>\n",
       "      <td>False</td>\n",
       "      <td>113</td>\n",
       "      <td>0</td>\n",
       "    </tr>\n",
       "    <tr>\n",
       "      <th>...</th>\n",
       "      <td>...</td>\n",
       "      <td>...</td>\n",
       "      <td>...</td>\n",
       "      <td>...</td>\n",
       "      <td>...</td>\n",
       "      <td>...</td>\n",
       "      <td>...</td>\n",
       "      <td>...</td>\n",
       "      <td>...</td>\n",
       "      <td>...</td>\n",
       "      <td>...</td>\n",
       "      <td>...</td>\n",
       "      <td>...</td>\n",
       "      <td>...</td>\n",
       "      <td>...</td>\n",
       "      <td>...</td>\n",
       "      <td>...</td>\n",
       "      <td>...</td>\n",
       "      <td>...</td>\n",
       "      <td>...</td>\n",
       "      <td>...</td>\n",
       "    </tr>\n",
       "    <tr>\n",
       "      <th>10955</th>\n",
       "      <td>16023</td>\n",
       "      <td>4468</td>\n",
       "      <td>30</td>\n",
       "      <td>Male</td>\n",
       "      <td>Professional</td>\n",
       "      <td>Bachelor</td>\n",
       "      <td>Married</td>\n",
       "      <td>1</td>\n",
       "      <td>AU$ 143566.54</td>\n",
       "      <td>258425.72 AED</td>\n",
       "      <td>...</td>\n",
       "      <td>M003</td>\n",
       "      <td>Purchase</td>\n",
       "      <td>Darwin</td>\n",
       "      <td>Desktop</td>\n",
       "      <td>-37.020100</td>\n",
       "      <td>144.964600</td>\n",
       "      <td>xoconnor@outlook.com</td>\n",
       "      <td>False</td>\n",
       "      <td>51</td>\n",
       "      <td>1</td>\n",
       "    </tr>\n",
       "    <tr>\n",
       "      <th>10956</th>\n",
       "      <td>11363</td>\n",
       "      <td>1399</td>\n",
       "      <td>35</td>\n",
       "      <td>Male</td>\n",
       "      <td>Professional</td>\n",
       "      <td>Master</td>\n",
       "      <td>Married</td>\n",
       "      <td>0</td>\n",
       "      <td>29584.49 AUD</td>\n",
       "      <td>10238.38 AUD</td>\n",
       "      <td>...</td>\n",
       "      <td>M005</td>\n",
       "      <td>Purchase</td>\n",
       "      <td>Adelaide</td>\n",
       "      <td>Tablet</td>\n",
       "      <td>-37.020100</td>\n",
       "      <td>144.964600</td>\n",
       "      <td>laura39@gmail.com</td>\n",
       "      <td>False</td>\n",
       "      <td>114</td>\n",
       "      <td>1</td>\n",
       "    </tr>\n",
       "    <tr>\n",
       "      <th>10962</th>\n",
       "      <td>11964</td>\n",
       "      <td>3925</td>\n",
       "      <td>-18</td>\n",
       "      <td>Female</td>\n",
       "      <td>Professional</td>\n",
       "      <td>High School</td>\n",
       "      <td>Married</td>\n",
       "      <td>2</td>\n",
       "      <td>80403.31 AUD</td>\n",
       "      <td>AU$ 63429.08</td>\n",
       "      <td>...</td>\n",
       "      <td>M003</td>\n",
       "      <td>Purchase</td>\n",
       "      <td>Hobart</td>\n",
       "      <td>iphone 15</td>\n",
       "      <td>-37.020100</td>\n",
       "      <td>144.964600</td>\n",
       "      <td>rcruz@yahoo.com</td>\n",
       "      <td>False</td>\n",
       "      <td>91</td>\n",
       "      <td>1</td>\n",
       "    </tr>\n",
       "    <tr>\n",
       "      <th>10964</th>\n",
       "      <td>860</td>\n",
       "      <td>1110</td>\n",
       "      <td>29</td>\n",
       "      <td>Female</td>\n",
       "      <td>Student</td>\n",
       "      <td>High School</td>\n",
       "      <td>Divorced</td>\n",
       "      <td>4</td>\n",
       "      <td>28654.66 AUD</td>\n",
       "      <td>AU$ 9748.53</td>\n",
       "      <td>...</td>\n",
       "      <td>M004</td>\n",
       "      <td>Purchase</td>\n",
       "      <td>Canberra</td>\n",
       "      <td>Mobile</td>\n",
       "      <td>-37.020100</td>\n",
       "      <td>144.964600</td>\n",
       "      <td>miranda86@disposable.com</td>\n",
       "      <td>False</td>\n",
       "      <td>62</td>\n",
       "      <td>1</td>\n",
       "    </tr>\n",
       "    <tr>\n",
       "      <th>10965</th>\n",
       "      <td>15795</td>\n",
       "      <td>3608</td>\n",
       "      <td>31</td>\n",
       "      <td>Female</td>\n",
       "      <td>Professional</td>\n",
       "      <td>PhD</td>\n",
       "      <td>Married</td>\n",
       "      <td>1</td>\n",
       "      <td>AU$ 113393.81</td>\n",
       "      <td>AED 167454.54</td>\n",
       "      <td>...</td>\n",
       "      <td>M007</td>\n",
       "      <td>Withdrawal</td>\n",
       "      <td>Hobart</td>\n",
       "      <td>Mobile</td>\n",
       "      <td>-41.640079</td>\n",
       "      <td>146.315918</td>\n",
       "      <td>brian94@gmail.com</td>\n",
       "      <td>False</td>\n",
       "      <td>81</td>\n",
       "      <td>1</td>\n",
       "    </tr>\n",
       "  </tbody>\n",
       "</table>\n",
       "<p>7990 rows × 24 columns</p>\n",
       "</div>"
      ],
      "text/plain": [
       "       TransactionNumber  UserID    Age  Gender    Occupation EducationLevel  \\\n",
       "8565                2551    1865  22000  Female  Professional       Bachelor   \n",
       "8047               18139     872     29  Female       Student    High School   \n",
       "7809               15685     604     29    Male    Unemployed         Master   \n",
       "1120                3988     376     46     fem  Professional         Master   \n",
       "2185                8998    3487     34  Female       Student       Bachelor   \n",
       "...                  ...     ...    ...     ...           ...            ...   \n",
       "10955              16023    4468     30    Male  Professional       Bachelor   \n",
       "10956              11363    1399     35    Male  Professional         Master   \n",
       "10962              11964    3925    -18  Female  Professional    High School   \n",
       "10964                860    1110     29  Female       Student    High School   \n",
       "10965              15795    3608     31  Female  Professional            PhD   \n",
       "\n",
       "      MaritalStatus  NumDependents         Income    Expenditure  ...  \\\n",
       "8565         Single              3   AU$ 92661.58    AU$ 52554.6  ...   \n",
       "8047        Married              2   AU$ 77729.72   AED 84918.21  ...   \n",
       "7809         Single              3  173719.27 AUD  232219.29 AED  ...   \n",
       "1120         Single              1  134357.88 AUD   AU$ 72386.52  ...   \n",
       "2185        Married              1   85524.36 AUD    AU$ 67413.8  ...   \n",
       "...             ...            ...            ...            ...  ...   \n",
       "10955       Married              1  AU$ 143566.54  258425.72 AED  ...   \n",
       "10956       Married              0   29584.49 AUD   10238.38 AUD  ...   \n",
       "10962       Married              2   80403.31 AUD   AU$ 63429.08  ...   \n",
       "10964      Divorced              4   28654.66 AUD    AU$ 9748.53  ...   \n",
       "10965       Married              1  AU$ 113393.81  AED 167454.54  ...   \n",
       "\n",
       "      MerchantID TransactionType TransactionLocation DeviceType   Latitude  \\\n",
       "8565        M002      Withdrawal             Melburn    Desktop -31.840233   \n",
       "8047        M007        Purchase            Adelaide     Mobile -20.917574   \n",
       "7809        M008        Purchase              Sydney   galaxys7 -37.020100   \n",
       "1120        M008        Purchase            Adelaide    Desktop -30.000233   \n",
       "2185        M002         Payment           Melbourne     Mobile -31.840233   \n",
       "...          ...             ...                 ...        ...        ...   \n",
       "10955       M003        Purchase              Darwin    Desktop -37.020100   \n",
       "10956       M005        Purchase            Adelaide     Tablet -37.020100   \n",
       "10962       M003        Purchase              Hobart  iphone 15 -37.020100   \n",
       "10964       M004        Purchase            Canberra     Mobile -37.020100   \n",
       "10965       M007      Withdrawal              Hobart     Mobile -41.640079   \n",
       "\n",
       "        Longitude                   EmailDomain Terrorism  UserTenure  IsFraud  \n",
       "8565   145.612793          davidsmith@gmail.com     False          41        0  \n",
       "8047   142.702789  velazquezgina@securemail.com     False          26        0  \n",
       "7809   144.964600       gilbertamanda@yahoo.com     False          75        0  \n",
       "1120   136.209152    fergusonjeremiah@yahoo.com     False          11        0  \n",
       "2185   145.612793       alicia43@securemail.com     False         113        0  \n",
       "...           ...                           ...       ...         ...      ...  \n",
       "10955  144.964600          xoconnor@outlook.com     False          51        1  \n",
       "10956  144.964600             laura39@gmail.com     False         114        1  \n",
       "10962  144.964600               rcruz@yahoo.com     False          91        1  \n",
       "10964  144.964600      miranda86@disposable.com     False          62        1  \n",
       "10965  146.315918             brian94@gmail.com     False          81        1  \n",
       "\n",
       "[7990 rows x 24 columns]"
      ]
     },
     "execution_count": 123,
     "metadata": {},
     "output_type": "execute_result"
    }
   ],
   "source": [
    "train_df"
   ]
  },
  {
   "cell_type": "markdown",
   "metadata": {},
   "source": [
    "## Cleaning"
   ]
  },
  {
   "cell_type": "markdown",
   "metadata": {},
   "source": [
    "### Clean currency data (4 columns)"
   ]
  },
  {
   "cell_type": "code",
   "execution_count": 124,
   "metadata": {},
   "outputs": [],
   "source": [
    "import re\n",
    "import pandas as pd\n",
    "\n",
    "def get_currency_and_symbol(val):\n",
    "    if 'AUD' in val or 'AU' in val:\n",
    "        # create a feature for aud\n",
    "        return re.sub(r'[^\\d.]', '', val), 'AUD' \n",
    "    elif 'AED' in val:\n",
    "        value = re.sub(r'[^\\d.]', '', val)\n",
    "        # convert AED to AUD\n",
    "        return float(value) * 0.35, 'AED'\n",
    "    elif '£' in val:\n",
    "        value = re.sub(r'[^\\d.]', '', val)\n",
    "        # convert pounds to AUD\n",
    "        return float(value) * 1.8, 'GBP'\n",
    "    elif 'GBP' in val:\n",
    "        value = re.sub(r'[^\\d.]', '', val)\n",
    "        # convert pounds to AUD\n",
    "        return float(value) * 1.8, 'GBP'\n",
    "    else:\n",
    "        return \"Unidentified\", \"Unknown\" \n",
    "\n",
    "\n",
    "# Apply to Income\n",
    "train_df['Income'], train_df['Income_Currency'] = zip(*train_df['Income'].apply(get_currency_and_symbol))\n",
    "train_df['Income'] = pd.to_numeric(train_df['Income'], errors='coerce')  \n",
    "\n",
    "# Apply to Expenditure\n",
    "train_df['Expenditure'], train_df['Expenditure_Currency'] = zip(*train_df['Expenditure'].apply(get_currency_and_symbol))\n",
    "train_df['Expenditure'] = pd.to_numeric(train_df['Expenditure'], errors='coerce')\n",
    "\n",
    "# Apply to GiftsTransaction\n",
    "train_df['GiftsTransaction'], train_df['GiftsTransaction_Currency'] = zip(*train_df['GiftsTransaction'].apply(get_currency_and_symbol))\n",
    "train_df['GiftsTransaction'] = pd.to_numeric(train_df['GiftsTransaction'], errors='coerce')\n",
    "\n",
    "# Apply to TransactionAmount\n",
    "train_df['TransactionAmount'], train_df['TransactionAmount_Currency'] = zip(*train_df['TransactionAmount'].apply(get_currency_and_symbol))\n",
    "train_df['TransactionAmount'] = pd.to_numeric(train_df['TransactionAmount'], errors='coerce') \n",
    "\n",
    "# Drop the original columns\n",
    "train_df.drop(columns=['Income', 'Expenditure', 'GiftsTransaction', 'TransactionAmount'], inplace=True)\n"
   ]
  },
  {
   "cell_type": "code",
   "execution_count": 125,
   "metadata": {},
   "outputs": [],
   "source": [
    "# # Check if there's any missing values\n",
    "# train_df['Income'].isnull().sum()\n",
    "# train_df[train_df['Income'] == 'Unidentified']\n",
    "# # expenditure\n",
    "# train_df['Expenditure'].isnull().sum()\n",
    "# train_df[train_df['Expenditure'] == 'Unidentified']\n",
    "# # giftsTransaction\n",
    "# train_df['GiftsTransaction'].isnull().sum()\n",
    "# train_df[train_df['GiftsTransaction'] == 'Unidentified']\n",
    "# # TransactionAmountggV\n",
    "# train_df['TransactionAmount'].isnull().sum()\n",
    "# train_df[train_df['TransactionAmount'] == 'Unidentified']"
   ]
  },
  {
   "cell_type": "code",
   "execution_count": 126,
   "metadata": {},
   "outputs": [
    {
     "ename": "KeyError",
     "evalue": "\"['Income', 'GiftsTransaction'] not in index\"",
     "output_type": "error",
     "traceback": [
      "\u001b[0;31m---------------------------------------------------------------------------\u001b[0m",
      "\u001b[0;31mKeyError\u001b[0m                                  Traceback (most recent call last)",
      "Cell \u001b[0;32mIn[126], line 2\u001b[0m\n\u001b[1;32m      1\u001b[0m \u001b[38;5;66;03m# Convert categorical data to numerical data through One Hot Encoding\u001b[39;00m\n\u001b[0;32m----> 2\u001b[0m user_df \u001b[38;5;241m=\u001b[39m pd\u001b[38;5;241m.\u001b[39mget_dummies(train_df[user_info])\n\u001b[1;32m      3\u001b[0m transaction_df \u001b[38;5;241m=\u001b[39m pd\u001b[38;5;241m.\u001b[39mget_dummies(train_df[transaction_info])\n\u001b[1;32m      4\u001b[0m account_df \u001b[38;5;241m=\u001b[39m pd\u001b[38;5;241m.\u001b[39mget_dummies(train_df[account_info])\n",
      "File \u001b[0;32m~/miniconda3/lib/python3.12/site-packages/pandas/core/frame.py:4108\u001b[0m, in \u001b[0;36mDataFrame.__getitem__\u001b[0;34m(self, key)\u001b[0m\n\u001b[1;32m   4106\u001b[0m     \u001b[38;5;28;01mif\u001b[39;00m is_iterator(key):\n\u001b[1;32m   4107\u001b[0m         key \u001b[38;5;241m=\u001b[39m \u001b[38;5;28mlist\u001b[39m(key)\n\u001b[0;32m-> 4108\u001b[0m     indexer \u001b[38;5;241m=\u001b[39m \u001b[38;5;28mself\u001b[39m\u001b[38;5;241m.\u001b[39mcolumns\u001b[38;5;241m.\u001b[39m_get_indexer_strict(key, \u001b[38;5;124m\"\u001b[39m\u001b[38;5;124mcolumns\u001b[39m\u001b[38;5;124m\"\u001b[39m)[\u001b[38;5;241m1\u001b[39m]\n\u001b[1;32m   4110\u001b[0m \u001b[38;5;66;03m# take() does not accept boolean indexers\u001b[39;00m\n\u001b[1;32m   4111\u001b[0m \u001b[38;5;28;01mif\u001b[39;00m \u001b[38;5;28mgetattr\u001b[39m(indexer, \u001b[38;5;124m\"\u001b[39m\u001b[38;5;124mdtype\u001b[39m\u001b[38;5;124m\"\u001b[39m, \u001b[38;5;28;01mNone\u001b[39;00m) \u001b[38;5;241m==\u001b[39m \u001b[38;5;28mbool\u001b[39m:\n",
      "File \u001b[0;32m~/miniconda3/lib/python3.12/site-packages/pandas/core/indexes/base.py:6200\u001b[0m, in \u001b[0;36mIndex._get_indexer_strict\u001b[0;34m(self, key, axis_name)\u001b[0m\n\u001b[1;32m   6197\u001b[0m \u001b[38;5;28;01melse\u001b[39;00m:\n\u001b[1;32m   6198\u001b[0m     keyarr, indexer, new_indexer \u001b[38;5;241m=\u001b[39m \u001b[38;5;28mself\u001b[39m\u001b[38;5;241m.\u001b[39m_reindex_non_unique(keyarr)\n\u001b[0;32m-> 6200\u001b[0m \u001b[38;5;28mself\u001b[39m\u001b[38;5;241m.\u001b[39m_raise_if_missing(keyarr, indexer, axis_name)\n\u001b[1;32m   6202\u001b[0m keyarr \u001b[38;5;241m=\u001b[39m \u001b[38;5;28mself\u001b[39m\u001b[38;5;241m.\u001b[39mtake(indexer)\n\u001b[1;32m   6203\u001b[0m \u001b[38;5;28;01mif\u001b[39;00m \u001b[38;5;28misinstance\u001b[39m(key, Index):\n\u001b[1;32m   6204\u001b[0m     \u001b[38;5;66;03m# GH 42790 - Preserve name from an Index\u001b[39;00m\n",
      "File \u001b[0;32m~/miniconda3/lib/python3.12/site-packages/pandas/core/indexes/base.py:6252\u001b[0m, in \u001b[0;36mIndex._raise_if_missing\u001b[0;34m(self, key, indexer, axis_name)\u001b[0m\n\u001b[1;32m   6249\u001b[0m     \u001b[38;5;28;01mraise\u001b[39;00m \u001b[38;5;167;01mKeyError\u001b[39;00m(\u001b[38;5;124mf\u001b[39m\u001b[38;5;124m\"\u001b[39m\u001b[38;5;124mNone of [\u001b[39m\u001b[38;5;132;01m{\u001b[39;00mkey\u001b[38;5;132;01m}\u001b[39;00m\u001b[38;5;124m] are in the [\u001b[39m\u001b[38;5;132;01m{\u001b[39;00maxis_name\u001b[38;5;132;01m}\u001b[39;00m\u001b[38;5;124m]\u001b[39m\u001b[38;5;124m\"\u001b[39m)\n\u001b[1;32m   6251\u001b[0m not_found \u001b[38;5;241m=\u001b[39m \u001b[38;5;28mlist\u001b[39m(ensure_index(key)[missing_mask\u001b[38;5;241m.\u001b[39mnonzero()[\u001b[38;5;241m0\u001b[39m]]\u001b[38;5;241m.\u001b[39munique())\n\u001b[0;32m-> 6252\u001b[0m \u001b[38;5;28;01mraise\u001b[39;00m \u001b[38;5;167;01mKeyError\u001b[39;00m(\u001b[38;5;124mf\u001b[39m\u001b[38;5;124m\"\u001b[39m\u001b[38;5;132;01m{\u001b[39;00mnot_found\u001b[38;5;132;01m}\u001b[39;00m\u001b[38;5;124m not in index\u001b[39m\u001b[38;5;124m\"\u001b[39m)\n",
      "\u001b[0;31mKeyError\u001b[0m: \"['Income', 'GiftsTransaction'] not in index\""
     ]
    }
   ],
   "source": [
    "# Convert categorical data to numerical data through One Hot Encoding\n",
    "user_df = pd.get_dummies(train_df[user_info])\n",
    "transaction_df = pd.get_dummies(train_df[transaction_info])\n",
    "account_df = pd.get_dummies(train_df[account_info])\n",
    "# Append IsFraud to the all dfs\n",
    "user_df['IsFraud'] = train_df['IsFraud']\n",
    "transaction_df['IsFraud'] = train_df['IsFraud']\n",
    "account_df['IsFraud'] = train_df['IsFraud']"
   ]
  },
  {
   "cell_type": "code",
   "execution_count": 15,
   "metadata": {},
   "outputs": [],
   "source": [
    "# Calculate correlations once for each DataFrame\n",
    "user_corr = user_df.corrwith(user_df['IsFraud'])\n",
    "transaction_corr = transaction_df.corrwith(transaction_df['IsFraud'])\n",
    "account_corr = account_df.corrwith(account_df['IsFraud'])\n",
    "\n",
    "# Sort the correlations in descending order\n",
    "user_corr = user_corr.sort_values(ascending=False)\n",
    "transaction_corr = transaction_corr.sort_values(ascending=False)\n",
    "account_corr = account_corr.sort_values(ascending=False)\n"
   ]
  },
  {
   "cell_type": "code",
   "execution_count": 20,
   "metadata": {},
   "outputs": [
    {
     "data": {
      "text/plain": [
       "IsFraud                    1.000000\n",
       "MaritalStatus_Divorced     0.032624\n",
       "EducationLevel_PhD         0.020876\n",
       "Occupation_Unemployed      0.015259\n",
       "GiftsTransaction           0.014263\n",
       "Terrorism                  0.013633\n",
       "Income                     0.012592\n",
       "MaritalStatus_Widowed      0.008158\n",
       "Occupation_Student         0.007891\n",
       "EducationLevel_Bachelor   -0.001135\n",
       "dtype: float64"
      ]
     },
     "execution_count": 20,
     "metadata": {},
     "output_type": "execute_result"
    }
   ],
   "source": [
    "user_corr.head(10)"
   ]
  },
  {
   "cell_type": "code",
   "execution_count": 19,
   "metadata": {},
   "outputs": [
    {
     "data": {
      "text/plain": [
       "IsFraud                         1.000000\n",
       "TransactionType_Withdrawal      0.557298\n",
       "TransactionTime_00:00:00        0.153296\n",
       "TransactionAmount               0.103385\n",
       "TransactionTime_00/00/00        0.054156\n",
       "TransactionTime_12:00:00 AM     0.050333\n",
       "TransactionLocation_Brisbane    0.043807\n",
       "TransactionLocation_Perth       0.039812\n",
       "TransactionDate_2023-05-26      0.034838\n",
       "TransactionLocation_Hobart      0.033201\n",
       "dtype: float64"
      ]
     },
     "execution_count": 19,
     "metadata": {},
     "output_type": "execute_result"
    }
   ],
   "source": [
    "transaction_corr.head(10)"
   ]
  },
  {
   "cell_type": "code",
   "execution_count": 18,
   "metadata": {},
   "outputs": [
    {
     "data": {
      "text/plain": [
       "IsFraud        1.000000\n",
       "Expenditure    0.011879\n",
       "Latitude       0.005265\n",
       "UserTenure     0.004936\n",
       "Longitude      0.003647\n",
       "dtype: float64"
      ]
     },
     "execution_count": 18,
     "metadata": {},
     "output_type": "execute_result"
    }
   ],
   "source": [
    "account_corr"
   ]
  },
  {
   "cell_type": "markdown",
   "metadata": {},
   "source": [
    "## EDA"
   ]
  },
  {
   "cell_type": "code",
   "execution_count": 73,
   "metadata": {},
   "outputs": [],
   "source": [
    "# make default plot smaller\n",
    "plt.rcParams['figure.figsize'] = [12, 3]"
   ]
  },
  {
   "cell_type": "code",
   "execution_count": 74,
   "metadata": {},
   "outputs": [
    {
     "data": {
      "image/png": "[encoded data removed]",
      "text/plain": [
       "<Figure size 1200x300 with 1 Axes>"
      ]
     },
     "metadata": {},
     "output_type": "display_data"
    }
   ],
   "source": [
    "# Plot the income against the isFraud, histogram\n",
    "sns.histplot(x='Income', hue='IsFraud', data=train_df)\n",
    "plt.title('Income Value vs IsFraud')\n",
    "plt.show()"
   ]
  },
  {
   "cell_type": "code",
   "execution_count": 75,
   "metadata": {},
   "outputs": [
    {
     "data": {
      "image/png": "[encoded data removed]",
      "text/plain": [
       "<Figure size 1200x300 with 1 Axes>"
      ]
     },
     "metadata": {},
     "output_type": "display_data"
    }
   ],
   "source": [
    "# Plot expenditure value against the isFraud, histogram\n",
    "sns.histplot(x='Expenditure', hue='IsFraud', data=train_df)\n",
    "plt.title('Expenditure Value vs IsFraud')\n",
    "plt.show()"
   ]
  },
  {
   "cell_type": "code",
   "execution_count": 76,
   "metadata": {},
   "outputs": [
    {
     "data": {
      "image/png": "[encoded data removed]",
      "text/plain": [
       "<Figure size 1200x300 with 1 Axes>"
      ]
     },
     "metadata": {},
     "output_type": "display_data"
    }
   ],
   "source": [
    "# Plot gifts transaction value against the isFraud, histogram\n",
    "sns.histplot(x='GiftsTransaction', hue='IsFraud', data=train_df)\n",
    "plt.title('Gifts Transaction Value vs IsFraud')\n",
    "plt.show()"
   ]
  },
  {
   "cell_type": "code",
   "execution_count": 81,
   "metadata": {},
   "outputs": [
    {
     "data": {
      "image/png": "[encoded data removed]",
      "text/plain": [
       "<Figure size 1200x300 with 1 Axes>"
      ]
     },
     "metadata": {},
     "output_type": "display_data"
    }
   ],
   "source": [
    "# Plot transaction amount value against the isFraud, histogram, zoom into the range of 0 to 1000\n",
    "sns.histplot(x='TransactionAmount', hue='IsFraud', data=train_df)\n",
    "plt.xlim(0, 1000)\n",
    "plt.title('Transaction Amount Value vs IsFraud')\n",
    "plt.show()"
   ]
  },
  {
   "cell_type": "code",
   "execution_count": 93,
   "metadata": {},
   "outputs": [
    {
     "data": {
      "image/png": "[encoded data removed]",
      "text/plain": [
       "<Figure size 1200x300 with 1 Axes>"
      ]
     },
     "metadata": {},
     "output_type": "display_data"
    }
   ],
   "source": [
    "# Check the number of 0 and 1 in the IsFraud column, gimme ratio\n",
    "train_df['IsFraud'].value_counts(normalize=True)\n",
    "# Barplot it\n",
    "sns.countplot(x='IsFraud', data=train_df)\n",
    "plt.title('6:3 Ratio')\n",
    "plt.show()"
   ]
  },
  {
   "cell_type": "code",
   "execution_count": 79,
   "metadata": {},
   "outputs": [
    {
     "data": {
      "text/html": [
       "<div>\n",
       "<style scoped>\n",
       "    .dataframe tbody tr th:only-of-type {\n",
       "        vertical-align: middle;\n",
       "    }\n",
       "\n",
       "    .dataframe tbody tr th {\n",
       "        vertical-align: top;\n",
       "    }\n",
       "\n",
       "    .dataframe thead th {\n",
       "        text-align: right;\n",
       "    }\n",
       "</style>\n",
       "<table border=\"1\" class=\"dataframe\">\n",
       "  <thead>\n",
       "    <tr style=\"text-align: right;\">\n",
       "      <th></th>\n",
       "      <th>Income_Value</th>\n",
       "      <th>Expenditure_Value</th>\n",
       "      <th>GiftsTransaction_Value</th>\n",
       "      <th>TransactionAmount_Value</th>\n",
       "      <th>IsFraud</th>\n",
       "    </tr>\n",
       "  </thead>\n",
       "  <tbody>\n",
       "    <tr>\n",
       "      <th>Income_Value</th>\n",
       "      <td>1.000000</td>\n",
       "      <td>0.828327</td>\n",
       "      <td>0.430414</td>\n",
       "      <td>0.007138</td>\n",
       "      <td>0.012592</td>\n",
       "    </tr>\n",
       "    <tr>\n",
       "      <th>Expenditure_Value</th>\n",
       "      <td>0.828327</td>\n",
       "      <td>1.000000</td>\n",
       "      <td>0.348032</td>\n",
       "      <td>0.006279</td>\n",
       "      <td>-0.001874</td>\n",
       "    </tr>\n",
       "    <tr>\n",
       "      <th>GiftsTransaction_Value</th>\n",
       "      <td>0.430414</td>\n",
       "      <td>0.348032</td>\n",
       "      <td>1.000000</td>\n",
       "      <td>-0.006143</td>\n",
       "      <td>0.007202</td>\n",
       "    </tr>\n",
       "    <tr>\n",
       "      <th>TransactionAmount_Value</th>\n",
       "      <td>0.007138</td>\n",
       "      <td>0.006279</td>\n",
       "      <td>-0.006143</td>\n",
       "      <td>1.000000</td>\n",
       "      <td>0.114700</td>\n",
       "    </tr>\n",
       "    <tr>\n",
       "      <th>IsFraud</th>\n",
       "      <td>0.012592</td>\n",
       "      <td>-0.001874</td>\n",
       "      <td>0.007202</td>\n",
       "      <td>0.114700</td>\n",
       "      <td>1.000000</td>\n",
       "    </tr>\n",
       "  </tbody>\n",
       "</table>\n",
       "</div>"
      ],
      "text/plain": [
       "                         Income_Value  Expenditure_Value  \\\n",
       "Income_Value                 1.000000           0.828327   \n",
       "Expenditure_Value            0.828327           1.000000   \n",
       "GiftsTransaction_Value       0.430414           0.348032   \n",
       "TransactionAmount_Value      0.007138           0.006279   \n",
       "IsFraud                      0.012592          -0.001874   \n",
       "\n",
       "                         GiftsTransaction_Value  TransactionAmount_Value  \\\n",
       "Income_Value                           0.430414                 0.007138   \n",
       "Expenditure_Value                      0.348032                 0.006279   \n",
       "GiftsTransaction_Value                 1.000000                -0.006143   \n",
       "TransactionAmount_Value               -0.006143                 1.000000   \n",
       "IsFraud                                0.007202                 0.114700   \n",
       "\n",
       "                          IsFraud  \n",
       "Income_Value             0.012592  \n",
       "Expenditure_Value       -0.001874  \n",
       "GiftsTransaction_Value   0.007202  \n",
       "TransactionAmount_Value  0.114700  \n",
       "IsFraud                  1.000000  "
      ]
     },
     "execution_count": 79,
     "metadata": {},
     "output_type": "execute_result"
    }
   ],
   "source": [
    "# Check correlation between the features: Income, Expenditure, GiftsTransaction, TransactionAmount, and IsFraud\n",
    "train_df[['Income', 'Expenditure', 'GiftsTransaction', 'TransactionAmount', 'IsFraud']].corr()"
   ]
  },
  {
   "cell_type": "markdown",
   "metadata": {},
   "source": [
    "=> Transaction amount, expenditure, and gift transaction values have little correlation with is Fraud"
   ]
  },
  {
   "cell_type": "code",
   "execution_count": null,
   "metadata": {},
   "outputs": [],
   "source": []
  }
 ],
 "metadata": {
  "kernelspec": {
   "display_name": "base",
   "language": "python",
   "name": "python3"
  },
  "language_info": {
   "codemirror_mode": {
    "name": "ipython",
    "version": 3
   },
   "file_extension": ".py",
   "mimetype": "text/x-python",
   "name": "python",
   "nbconvert_exporter": "python",
   "pygments_lexer": "ipython3",
   "version": "3.12.4"
  }
 },
 "nbformat": 4,
 "nbformat_minor": 2
}
