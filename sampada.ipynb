{
 "cells": [
  {
   "cell_type": "code",
   "execution_count": 1,
   "metadata": {},
   "outputs": [],
   "source": [
    "import pandas as pd \n"
   ]
  },
  {
   "cell_type": "code",
   "execution_count": 2,
   "metadata": {},
   "outputs": [],
   "source": [
    "df = pd.read_csv('data/train.csv')"
   ]
  },
  {
   "cell_type": "code",
   "execution_count": 6,
   "metadata": {},
   "outputs": [],
   "source": [
    "replacement = {\n",
    "    'Adelaide': 'Adelaide',\n",
    "    'adl': 'Adelaide',\n",
    "    'Adelaide City': 'Adelaide',\n",
    "    'Adl': 'Adelaide',\n",
    "    'Bne': 'Brisbane',\n",
    "    'BNE': 'Brisbane',\n",
    "    'brisbane': 'Brisbane',\n",
    "    'Brisbane': 'Brisbane',\n",
    "    'canberra': 'Canberra',\n",
    "    'Canberra': 'Canberra',\n",
    "    'CBR': 'Canberra',\n",
    "    'Cbr': 'Canberra',\n",
    "    'c': 'Canberra',\n",
    "    'darwin': 'Darwin',\n",
    "    'Darwin': 'Darwin',\n",
    "    'Drw': 'Darwin',\n",
    "    'DRW': 'Darwin',\n",
    "    'Hbt': 'Hobart',\n",
    "    'HBT': 'Hobart',\n",
    "    'hobart': 'Hobart',\n",
    "    'Hobart': 'Hobart',\n",
    "    'Mel': 'Melbourne',\n",
    "    'melb': 'Melbourne',\n",
    "    'Melb': 'Melbourne',\n",
    "    'melbourne': 'Melbourne',\n",
    "    'Melbourne': 'Melbourne',\n",
    "    'Melburne': 'Melbourne',\n",
    "    'Melburn': 'Melbourne',\n",
    "    'MLB': 'Melbourne',\n",
    "    'perth': 'Perth',\n",
    "    'Perth': 'Perth',\n",
    "    'PTH': 'Perth',\n",
    "    'Pth': 'Perth',\n",
    "    'Syd': 'Sydney',\n",
    "    'Sydney': 'Sydney',\n",
    "    'SYD': 'Sydney',\n",
    "    'sydney': 'Sydney',\n",
    "\n",
    "}\n"
   ]
  },
  {
   "cell_type": "code",
   "execution_count": 7,
   "metadata": {},
   "outputs": [],
   "source": [
    "df['TransactionLocation'] = df['TransactionLocation'].replace(replacement)"
   ]
  },
  {
   "cell_type": "code",
   "execution_count": 8,
   "metadata": {},
   "outputs": [
    {
     "name": "stdout",
     "output_type": "stream",
     "text": [
      "Unique values after renaming: ['Adelaide' 'Canberra' 'Brisbane' 'Darwin' 'Melbourne' 'Sydney' 'Hobart'\n",
      " 'Perth']\n"
     ]
    }
   ],
   "source": [
    "print(\"Unique values after renaming:\", df['TransactionLocation'].unique())"
   ]
  },
  {
   "cell_type": "code",
   "execution_count": 9,
   "metadata": {},
   "outputs": [],
   "source": [
    "df.to_csv('train_cleaned.csv', index=False)"
   ]
  },
  {
   "cell_type": "code",
   "execution_count": 10,
   "metadata": {},
   "outputs": [],
   "source": [
    "replacement_for_device = {\n",
    "    'android': 'Mobile',\n",
    "     'galaxys7': 'Mobile',\n",
    "      'iphone 15': 'Mobile',\n",
    "       'mob': 'Mobile',\n",
    "        'smartphone': 'Mobile',\n",
    "         'Mobile': 'Mobile',\n",
    "}"
   ]
  },
  {
   "cell_type": "code",
   "execution_count": 11,
   "metadata": {},
   "outputs": [],
   "source": [
    "df['DeviceType'] = df['DeviceType'].replace(replacement_for_device)"
   ]
  },
  {
   "cell_type": "code",
   "execution_count": 14,
   "metadata": {},
   "outputs": [
    {
     "name": "stdout",
     "output_type": "stream",
     "text": [
      "Unique values after renaming: ['Mobile' 'Tablet' 'Desktop']\n"
     ]
    }
   ],
   "source": [
    "print(\"Unique values after renaming:\", df['DeviceType'].unique())"
   ]
  },
  {
   "cell_type": "code",
   "execution_count": 16,
   "metadata": {},
   "outputs": [],
   "source": [
    "df.to_csv('train_cleaned.csv', index=False)"
   ]
  },
  {
   "cell_type": "code",
   "execution_count": 12,
   "metadata": {},
   "outputs": [
    {
     "name": "stdout",
     "output_type": "stream",
     "text": [
      "Unique values after renaming: ['Mobile' 'Tablet' 'Desktop']\n"
     ]
    }
   ],
   "source": []
  },
  {
   "cell_type": "code",
   "execution_count": null,
   "metadata": {},
   "outputs": [],
   "source": []
  }
 ],
 "metadata": {
  "kernelspec": {
   "display_name": "Python 3 (ipykernel)",
   "language": "python",
   "name": "python3"
  },
  "language_info": {
   "codemirror_mode": {
    "name": "ipython",
    "version": 3
   },
   "file_extension": ".py",
   "mimetype": "text/x-python",
   "name": "python",
   "nbconvert_exporter": "python",
   "pygments_lexer": "ipython3",
   "version": "3.11.9"
  }
 },
 "nbformat": 4,
 "nbformat_minor": 4
}
